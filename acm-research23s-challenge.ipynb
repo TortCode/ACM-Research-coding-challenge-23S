{
 "cells": [
  {
   "cell_type": "code",
   "execution_count": 1,
   "metadata": {
    "_cell_guid": "b1076dfc-b9ad-4769-8c92-a6c4dae69d19",
    "_uuid": "8f2839f25d086af736a60e9eeb907d3b93b6e0e5",
    "execution": {
     "iopub.execute_input": "2023-01-23T18:44:29.357381Z",
     "iopub.status.busy": "2023-01-23T18:44:29.356805Z",
     "iopub.status.idle": "2023-01-23T18:44:29.371409Z",
     "shell.execute_reply": "2023-01-23T18:44:29.369824Z",
     "shell.execute_reply.started": "2023-01-23T18:44:29.357336Z"
    }
   },
   "outputs": [],
   "source": [
    "# This Python 3 environment comes with many helpful analytics libraries installed\n",
    "# It is defined by the kaggle/python Docker image: https://github.com/kaggle/docker-python\n",
    "# For example, here's several helpful packages to load\n",
    "\n",
    "import numpy as np # linear algebra\n",
    "import pandas as pd # data processing, CSV file I/O (e.g. pd.read_csv)\n",
    "\n",
    "# Input data files are available in the read-only \"../input/\" directory\n",
    "# For example, running this (by clicking run or pressing Shift+Enter) will list all files under the input directory\n",
    "\n",
    "df = pd.read_csv(\"6 class csv.csv\")\n",
    "\n",
    "# You can write up to 20GB to the current directory (/kaggle/working/) that gets preserved as output when you create a version using \"Save & Run All\" \n",
    "# You can also write temporary files to /kaggle/temp/, but they won't be saved outside of the current session\n",
    "\n"
   ]
  },
  {
   "cell_type": "code",
   "execution_count": 2,
   "metadata": {
    "execution": {
     "iopub.execute_input": "2023-01-23T18:44:29.374136Z",
     "iopub.status.busy": "2023-01-23T18:44:29.373653Z",
     "iopub.status.idle": "2023-01-23T18:44:29.401409Z",
     "shell.execute_reply": "2023-01-23T18:44:29.400260Z",
     "shell.execute_reply.started": "2023-01-23T18:44:29.374070Z"
    }
   },
   "outputs": [
    {
     "data": {
      "text/html": [
       "<div>\n",
       "<style scoped>\n",
       "    .dataframe tbody tr th:only-of-type {\n",
       "        vertical-align: middle;\n",
       "    }\n",
       "\n",
       "    .dataframe tbody tr th {\n",
       "        vertical-align: top;\n",
       "    }\n",
       "\n",
       "    .dataframe thead th {\n",
       "        text-align: right;\n",
       "    }\n",
       "</style>\n",
       "<table border=\"1\" class=\"dataframe\">\n",
       "  <thead>\n",
       "    <tr style=\"text-align: right;\">\n",
       "      <th></th>\n",
       "      <th>Temperature (K)</th>\n",
       "      <th>Luminosity(L/Lo)</th>\n",
       "      <th>Radius(R/Ro)</th>\n",
       "      <th>Absolute magnitude(Mv)</th>\n",
       "      <th>Star type</th>\n",
       "    </tr>\n",
       "  </thead>\n",
       "  <tbody>\n",
       "    <tr>\n",
       "      <th>count</th>\n",
       "      <td>240.000000</td>\n",
       "      <td>240.000000</td>\n",
       "      <td>240.000000</td>\n",
       "      <td>240.000000</td>\n",
       "      <td>240.000000</td>\n",
       "    </tr>\n",
       "    <tr>\n",
       "      <th>mean</th>\n",
       "      <td>10497.462500</td>\n",
       "      <td>107188.361635</td>\n",
       "      <td>237.157781</td>\n",
       "      <td>4.382396</td>\n",
       "      <td>2.500000</td>\n",
       "    </tr>\n",
       "    <tr>\n",
       "      <th>std</th>\n",
       "      <td>9552.425037</td>\n",
       "      <td>179432.244940</td>\n",
       "      <td>517.155763</td>\n",
       "      <td>10.532512</td>\n",
       "      <td>1.711394</td>\n",
       "    </tr>\n",
       "    <tr>\n",
       "      <th>min</th>\n",
       "      <td>1939.000000</td>\n",
       "      <td>0.000080</td>\n",
       "      <td>0.008400</td>\n",
       "      <td>-11.920000</td>\n",
       "      <td>0.000000</td>\n",
       "    </tr>\n",
       "    <tr>\n",
       "      <th>25%</th>\n",
       "      <td>3344.250000</td>\n",
       "      <td>0.000865</td>\n",
       "      <td>0.102750</td>\n",
       "      <td>-6.232500</td>\n",
       "      <td>1.000000</td>\n",
       "    </tr>\n",
       "    <tr>\n",
       "      <th>50%</th>\n",
       "      <td>5776.000000</td>\n",
       "      <td>0.070500</td>\n",
       "      <td>0.762500</td>\n",
       "      <td>8.313000</td>\n",
       "      <td>2.500000</td>\n",
       "    </tr>\n",
       "    <tr>\n",
       "      <th>75%</th>\n",
       "      <td>15055.500000</td>\n",
       "      <td>198050.000000</td>\n",
       "      <td>42.750000</td>\n",
       "      <td>13.697500</td>\n",
       "      <td>4.000000</td>\n",
       "    </tr>\n",
       "    <tr>\n",
       "      <th>max</th>\n",
       "      <td>40000.000000</td>\n",
       "      <td>849420.000000</td>\n",
       "      <td>1948.500000</td>\n",
       "      <td>20.060000</td>\n",
       "      <td>5.000000</td>\n",
       "    </tr>\n",
       "  </tbody>\n",
       "</table>\n",
       "</div>"
      ],
      "text/plain": [
       "       Temperature (K)  Luminosity(L/Lo)  Radius(R/Ro)  \\\n",
       "count       240.000000        240.000000    240.000000   \n",
       "mean      10497.462500     107188.361635    237.157781   \n",
       "std        9552.425037     179432.244940    517.155763   \n",
       "min        1939.000000          0.000080      0.008400   \n",
       "25%        3344.250000          0.000865      0.102750   \n",
       "50%        5776.000000          0.070500      0.762500   \n",
       "75%       15055.500000     198050.000000     42.750000   \n",
       "max       40000.000000     849420.000000   1948.500000   \n",
       "\n",
       "       Absolute magnitude(Mv)   Star type  \n",
       "count              240.000000  240.000000  \n",
       "mean                 4.382396    2.500000  \n",
       "std                 10.532512    1.711394  \n",
       "min                -11.920000    0.000000  \n",
       "25%                 -6.232500    1.000000  \n",
       "50%                  8.313000    2.500000  \n",
       "75%                 13.697500    4.000000  \n",
       "max                 20.060000    5.000000  "
      ]
     },
     "execution_count": 2,
     "metadata": {},
     "output_type": "execute_result"
    }
   ],
   "source": [
    "df.describe()"
   ]
  },
  {
   "cell_type": "code",
   "execution_count": 3,
   "metadata": {
    "execution": {
     "iopub.execute_input": "2023-01-23T18:44:29.403908Z",
     "iopub.status.busy": "2023-01-23T18:44:29.403552Z",
     "iopub.status.idle": "2023-01-23T18:44:29.412076Z",
     "shell.execute_reply": "2023-01-23T18:44:29.411156Z",
     "shell.execute_reply.started": "2023-01-23T18:44:29.403876Z"
    }
   },
   "outputs": [],
   "source": [
    "df = df.rename(columns={'Temperature (K)':'temp', 'Luminosity(L/Lo)':'lum', 'Radius(R/Ro)':'rad',\n",
    "       'Absolute magnitude(Mv)':'abs_mag', 'Star type':'type', 'Star color':'color', 'Spectral Class':'spectral_cls'})"
   ]
  },
  {
   "cell_type": "code",
   "execution_count": 27,
   "metadata": {
    "execution": {
     "iopub.execute_input": "2023-01-23T18:44:29.414705Z",
     "iopub.status.busy": "2023-01-23T18:44:29.413696Z",
     "iopub.status.idle": "2023-01-23T18:44:29.424328Z",
     "shell.execute_reply": "2023-01-23T18:44:29.422860Z",
     "shell.execute_reply.started": "2023-01-23T18:44:29.414670Z"
    }
   },
   "outputs": [],
   "source": [
    "spectral_class_to_num = {\n",
    "    'O': 1, \n",
    "    'B': 2,\n",
    "    'A': 3,\n",
    "    'F': 4,\n",
    "    'G': 5,\n",
    "    'K': 6,\n",
    "    'M': 7,\n",
    "}\n",
    "df['spec_cls_num'] = df['spectral_cls'].map(spectral_class_to_num)"
   ]
  },
  {
   "cell_type": "code",
   "execution_count": 5,
   "metadata": {
    "execution": {
     "iopub.execute_input": "2023-01-23T18:44:29.426856Z",
     "iopub.status.busy": "2023-01-23T18:44:29.426475Z",
     "iopub.status.idle": "2023-01-23T18:44:29.496950Z",
     "shell.execute_reply": "2023-01-23T18:44:29.495821Z",
     "shell.execute_reply.started": "2023-01-23T18:44:29.426822Z"
    }
   },
   "outputs": [
    {
     "name": "stdout",
     "output_type": "stream",
     "text": [
      "Red has max class 7\n",
      "Blue White has max class 2\n",
      "White has max class 3\n",
      "Yellowish White has max class 4\n",
      "Blue white has max class 3\n",
      "Pale yellow orange has max class 4\n",
      "Blue has max class 1\n",
      "Blue-white has max class 2\n",
      "Whitish has max class 2\n",
      "yellow-white has max class 4\n",
      "Orange has max class 6\n",
      "White-Yellow has max class 4\n",
      "white has max class 4\n",
      "Blue  has max class 2\n",
      "yellowish has max class 6\n",
      "Yellowish has max class 6\n",
      "Orange-Red has max class 6\n",
      "Blue white  has max class 2\n",
      "Blue-White has max class 3\n"
     ]
    },
    {
     "data": {
      "text/plain": [
       "{'Red': 7,\n",
       " 'Blue White': 2,\n",
       " 'White': 3,\n",
       " 'Yellowish White': 4,\n",
       " 'Blue white': 3,\n",
       " 'Pale yellow orange': 4,\n",
       " 'Blue': 1,\n",
       " 'Blue-white': 2,\n",
       " 'Whitish': 2,\n",
       " 'yellow-white': 4,\n",
       " 'Orange': 6,\n",
       " 'White-Yellow': 4,\n",
       " 'white': 4,\n",
       " 'Blue ': 2,\n",
       " 'yellowish': 6,\n",
       " 'Yellowish': 6,\n",
       " 'Orange-Red': 6,\n",
       " 'Blue white ': 2,\n",
       " 'Blue-White': 3}"
      ]
     },
     "execution_count": 5,
     "metadata": {},
     "output_type": "execute_result"
    }
   ],
   "source": [
    "color_mapper = {}\n",
    "df_color_spec = df[['color', 'spec_cls_num']]\n",
    "for color in df.color.unique():\n",
    "    color_df = df_color_spec[df_color_spec['color'] == color]\n",
    "    top_cls = color_df.value_counts().index[0][1]\n",
    "    color_mapper[color] = top_cls\n",
    "    print(f\"{color} has max class {color_df.value_counts().index[0][1]}\")\n",
    "color_mapper"
   ]
  },
  {
   "cell_type": "code",
   "execution_count": 26,
   "metadata": {
    "execution": {
     "iopub.execute_input": "2023-01-23T18:44:29.499472Z",
     "iopub.status.busy": "2023-01-23T18:44:29.499074Z",
     "iopub.status.idle": "2023-01-23T18:44:29.506985Z",
     "shell.execute_reply": "2023-01-23T18:44:29.505806Z",
     "shell.execute_reply.started": "2023-01-23T18:44:29.499438Z"
    }
   },
   "outputs": [],
   "source": [
    "df['color_num'] = df['color'].map(color_mapper)"
   ]
  },
  {
   "cell_type": "code",
   "execution_count": 7,
   "metadata": {
    "execution": {
     "iopub.execute_input": "2023-01-23T18:44:29.509021Z",
     "iopub.status.busy": "2023-01-23T18:44:29.508615Z",
     "iopub.status.idle": "2023-01-23T18:44:29.520233Z",
     "shell.execute_reply": "2023-01-23T18:44:29.518929Z",
     "shell.execute_reply.started": "2023-01-23T18:44:29.508987Z"
    }
   },
   "outputs": [],
   "source": [
    "for col in ['temp', 'lum', 'rad']:\n",
    "    df['log_'+col] = np.log(df[col])"
   ]
  },
  {
   "cell_type": "code",
   "execution_count": 8,
   "metadata": {
    "execution": {
     "iopub.execute_input": "2023-01-23T18:44:29.524424Z",
     "iopub.status.busy": "2023-01-23T18:44:29.523648Z",
     "iopub.status.idle": "2023-01-23T18:44:29.546738Z",
     "shell.execute_reply": "2023-01-23T18:44:29.545675Z",
     "shell.execute_reply.started": "2023-01-23T18:44:29.524377Z"
    },
    "scrolled": true
   },
   "outputs": [
    {
     "name": "stderr",
     "output_type": "stream",
     "text": [
      "/tmp/ipykernel_6765/1134722465.py:1: FutureWarning: The default value of numeric_only in DataFrame.corr is deprecated. In a future version, it will default to False. Select only valid columns or specify the value of numeric_only to silence this warning.\n",
      "  df.corr()\n"
     ]
    },
    {
     "data": {
      "text/html": [
       "<div>\n",
       "<style scoped>\n",
       "    .dataframe tbody tr th:only-of-type {\n",
       "        vertical-align: middle;\n",
       "    }\n",
       "\n",
       "    .dataframe tbody tr th {\n",
       "        vertical-align: top;\n",
       "    }\n",
       "\n",
       "    .dataframe thead th {\n",
       "        text-align: right;\n",
       "    }\n",
       "</style>\n",
       "<table border=\"1\" class=\"dataframe\">\n",
       "  <thead>\n",
       "    <tr style=\"text-align: right;\">\n",
       "      <th></th>\n",
       "      <th>temp</th>\n",
       "      <th>lum</th>\n",
       "      <th>rad</th>\n",
       "      <th>abs_mag</th>\n",
       "      <th>type</th>\n",
       "      <th>spec_cls_num</th>\n",
       "      <th>color_num</th>\n",
       "      <th>log_temp</th>\n",
       "      <th>log_lum</th>\n",
       "      <th>log_rad</th>\n",
       "    </tr>\n",
       "  </thead>\n",
       "  <tbody>\n",
       "    <tr>\n",
       "      <th>temp</th>\n",
       "      <td>1.000000</td>\n",
       "      <td>0.393404</td>\n",
       "      <td>0.064216</td>\n",
       "      <td>-0.420261</td>\n",
       "      <td>0.411129</td>\n",
       "      <td>-0.817444</td>\n",
       "      <td>-0.812183</td>\n",
       "      <td>0.946420</td>\n",
       "      <td>0.442169</td>\n",
       "      <td>0.212791</td>\n",
       "    </tr>\n",
       "    <tr>\n",
       "      <th>lum</th>\n",
       "      <td>0.393404</td>\n",
       "      <td>1.000000</td>\n",
       "      <td>0.526516</td>\n",
       "      <td>-0.692619</td>\n",
       "      <td>0.676845</td>\n",
       "      <td>-0.346568</td>\n",
       "      <td>-0.316082</td>\n",
       "      <td>0.351996</td>\n",
       "      <td>0.730686</td>\n",
       "      <td>0.705692</td>\n",
       "    </tr>\n",
       "    <tr>\n",
       "      <th>rad</th>\n",
       "      <td>0.064216</td>\n",
       "      <td>0.526516</td>\n",
       "      <td>1.000000</td>\n",
       "      <td>-0.608728</td>\n",
       "      <td>0.660975</td>\n",
       "      <td>0.060728</td>\n",
       "      <td>0.078269</td>\n",
       "      <td>0.017946</td>\n",
       "      <td>0.547029</td>\n",
       "      <td>0.747379</td>\n",
       "    </tr>\n",
       "    <tr>\n",
       "      <th>abs_mag</th>\n",
       "      <td>-0.420261</td>\n",
       "      <td>-0.692619</td>\n",
       "      <td>-0.608728</td>\n",
       "      <td>1.000000</td>\n",
       "      <td>-0.955276</td>\n",
       "      <td>0.415359</td>\n",
       "      <td>0.390445</td>\n",
       "      <td>-0.435684</td>\n",
       "      <td>-0.976579</td>\n",
       "      <td>-0.911879</td>\n",
       "    </tr>\n",
       "    <tr>\n",
       "      <th>type</th>\n",
       "      <td>0.411129</td>\n",
       "      <td>0.676845</td>\n",
       "      <td>0.660975</td>\n",
       "      <td>-0.955276</td>\n",
       "      <td>1.000000</td>\n",
       "      <td>-0.461116</td>\n",
       "      <td>-0.441211</td>\n",
       "      <td>0.470054</td>\n",
       "      <td>0.902005</td>\n",
       "      <td>0.839179</td>\n",
       "    </tr>\n",
       "    <tr>\n",
       "      <th>spec_cls_num</th>\n",
       "      <td>-0.817444</td>\n",
       "      <td>-0.346568</td>\n",
       "      <td>0.060728</td>\n",
       "      <td>0.415359</td>\n",
       "      <td>-0.461116</td>\n",
       "      <td>1.000000</td>\n",
       "      <td>0.990565</td>\n",
       "      <td>-0.935765</td>\n",
       "      <td>-0.413427</td>\n",
       "      <td>-0.130855</td>\n",
       "    </tr>\n",
       "    <tr>\n",
       "      <th>color_num</th>\n",
       "      <td>-0.812183</td>\n",
       "      <td>-0.316082</td>\n",
       "      <td>0.078269</td>\n",
       "      <td>0.390445</td>\n",
       "      <td>-0.441211</td>\n",
       "      <td>0.990565</td>\n",
       "      <td>1.000000</td>\n",
       "      <td>-0.933816</td>\n",
       "      <td>-0.385532</td>\n",
       "      <td>-0.100475</td>\n",
       "    </tr>\n",
       "    <tr>\n",
       "      <th>log_temp</th>\n",
       "      <td>0.946420</td>\n",
       "      <td>0.351996</td>\n",
       "      <td>0.017946</td>\n",
       "      <td>-0.435684</td>\n",
       "      <td>0.470054</td>\n",
       "      <td>-0.935765</td>\n",
       "      <td>-0.933816</td>\n",
       "      <td>1.000000</td>\n",
       "      <td>0.430559</td>\n",
       "      <td>0.163041</td>\n",
       "    </tr>\n",
       "    <tr>\n",
       "      <th>log_lum</th>\n",
       "      <td>0.442169</td>\n",
       "      <td>0.730686</td>\n",
       "      <td>0.547029</td>\n",
       "      <td>-0.976579</td>\n",
       "      <td>0.902005</td>\n",
       "      <td>-0.413427</td>\n",
       "      <td>-0.385532</td>\n",
       "      <td>0.430559</td>\n",
       "      <td>1.000000</td>\n",
       "      <td>0.918027</td>\n",
       "    </tr>\n",
       "    <tr>\n",
       "      <th>log_rad</th>\n",
       "      <td>0.212791</td>\n",
       "      <td>0.705692</td>\n",
       "      <td>0.747379</td>\n",
       "      <td>-0.911879</td>\n",
       "      <td>0.839179</td>\n",
       "      <td>-0.130855</td>\n",
       "      <td>-0.100475</td>\n",
       "      <td>0.163041</td>\n",
       "      <td>0.918027</td>\n",
       "      <td>1.000000</td>\n",
       "    </tr>\n",
       "  </tbody>\n",
       "</table>\n",
       "</div>"
      ],
      "text/plain": [
       "                  temp       lum       rad   abs_mag      type  spec_cls_num  \\\n",
       "temp          1.000000  0.393404  0.064216 -0.420261  0.411129     -0.817444   \n",
       "lum           0.393404  1.000000  0.526516 -0.692619  0.676845     -0.346568   \n",
       "rad           0.064216  0.526516  1.000000 -0.608728  0.660975      0.060728   \n",
       "abs_mag      -0.420261 -0.692619 -0.608728  1.000000 -0.955276      0.415359   \n",
       "type          0.411129  0.676845  0.660975 -0.955276  1.000000     -0.461116   \n",
       "spec_cls_num -0.817444 -0.346568  0.060728  0.415359 -0.461116      1.000000   \n",
       "color_num    -0.812183 -0.316082  0.078269  0.390445 -0.441211      0.990565   \n",
       "log_temp      0.946420  0.351996  0.017946 -0.435684  0.470054     -0.935765   \n",
       "log_lum       0.442169  0.730686  0.547029 -0.976579  0.902005     -0.413427   \n",
       "log_rad       0.212791  0.705692  0.747379 -0.911879  0.839179     -0.130855   \n",
       "\n",
       "              color_num  log_temp   log_lum   log_rad  \n",
       "temp          -0.812183  0.946420  0.442169  0.212791  \n",
       "lum           -0.316082  0.351996  0.730686  0.705692  \n",
       "rad            0.078269  0.017946  0.547029  0.747379  \n",
       "abs_mag        0.390445 -0.435684 -0.976579 -0.911879  \n",
       "type          -0.441211  0.470054  0.902005  0.839179  \n",
       "spec_cls_num   0.990565 -0.935765 -0.413427 -0.130855  \n",
       "color_num      1.000000 -0.933816 -0.385532 -0.100475  \n",
       "log_temp      -0.933816  1.000000  0.430559  0.163041  \n",
       "log_lum       -0.385532  0.430559  1.000000  0.918027  \n",
       "log_rad       -0.100475  0.163041  0.918027  1.000000  "
      ]
     },
     "execution_count": 8,
     "metadata": {},
     "output_type": "execute_result"
    }
   ],
   "source": [
    "df.corr()"
   ]
  },
  {
   "cell_type": "code",
   "execution_count": 17,
   "metadata": {
    "execution": {
     "iopub.execute_input": "2023-01-23T18:44:29.548680Z",
     "iopub.status.busy": "2023-01-23T18:44:29.548345Z",
     "iopub.status.idle": "2023-01-23T18:44:29.557094Z",
     "shell.execute_reply": "2023-01-23T18:44:29.556182Z",
     "shell.execute_reply.started": "2023-01-23T18:44:29.548650Z"
    }
   },
   "outputs": [],
   "source": [
    "import matplotlib.pyplot as plt\n",
    "import matplotlib.ticker as tic\n",
    "label_to_str = ['brown dwarf', 'red dwarf', 'white dwarf', 'main seq', 'supergiant', 'hypergiant']\n",
    "formatter = tic.FuncFormatter(lambda x, pos: label_to_str[int(x)])\n",
    "def plot_stars(df, size=4.0, x='temp', y='lum', logx=False, logy=False):\n",
    "    fig, ax = plt.subplots(1,1)\n",
    "    scatter = ax.scatter(df[x], df[y], c=df.type, s=size)\n",
    "    handles, labels = scatter.legend_elements(prop='colors', fmt=formatter)\n",
    "    ax.set_xlabel(x)\n",
    "    ax.set_ylabel(y)\n",
    "    ax.set_xscale('log' if logx else 'linear')\n",
    "    ax.set_yscale('log' if logy else 'linear')\n",
    "    ax.legend(handles, labels)"
   ]
  },
  {
   "cell_type": "code",
   "execution_count": 18,
   "metadata": {
    "execution": {
     "iopub.execute_input": "2023-01-23T18:44:29.559142Z",
     "iopub.status.busy": "2023-01-23T18:44:29.558728Z",
     "iopub.status.idle": "2023-01-23T18:44:29.972065Z",
     "shell.execute_reply": "2023-01-23T18:44:29.970954Z",
     "shell.execute_reply.started": "2023-01-23T18:44:29.559084Z"
    }
   },
   "outputs": [
    {
     "data": {
      "image/png": "[encoded data removed]",
      "text/plain": [
       "<Figure size 640x480 with 1 Axes>"
      ]
     },
     "metadata": {},
     "output_type": "display_data"
    }
   ],
   "source": [
    "plot_stars(df, logy=True)"
   ]
  },
  {
   "cell_type": "markdown",
   "metadata": {},
   "source": [
    "Note that supergiants and hypergiants cannot be distinguished easily via the HR diagram"
   ]
  },
  {
   "cell_type": "code",
   "execution_count": 19,
   "metadata": {
    "execution": {
     "iopub.execute_input": "2023-01-23T18:44:29.973862Z",
     "iopub.status.busy": "2023-01-23T18:44:29.973519Z",
     "iopub.status.idle": "2023-01-23T18:44:30.359294Z",
     "shell.execute_reply": "2023-01-23T18:44:30.358412Z",
     "shell.execute_reply.started": "2023-01-23T18:44:29.973830Z"
    }
   },
   "outputs": [
    {
     "data": {
      "image/png": "[encoded data removed]",
      "text/plain": [
       "<Figure size 640x480 with 1 Axes>"
      ]
     },
     "metadata": {},
     "output_type": "display_data"
    }
   ],
   "source": [
    "giants_df = df[(df.type == 4) | (df.type == 5)]\n",
    "plot_stars(giants_df, logy=True)"
   ]
  },
  {
   "cell_type": "code",
   "execution_count": 28,
   "metadata": {
    "execution": {
     "iopub.execute_input": "2023-01-23T18:44:30.361230Z",
     "iopub.status.busy": "2023-01-23T18:44:30.360511Z",
     "iopub.status.idle": "2023-01-23T18:44:30.381495Z",
     "shell.execute_reply": "2023-01-23T18:44:30.380333Z",
     "shell.execute_reply.started": "2023-01-23T18:44:30.361192Z"
    }
   },
   "outputs": [
    {
     "name": "stderr",
     "output_type": "stream",
     "text": [
      "/tmp/ipykernel_6765/3290544590.py:1: FutureWarning: The default value of numeric_only in DataFrame.corr is deprecated. In a future version, it will default to False. Select only valid columns or specify the value of numeric_only to silence this warning.\n",
      "  giants_df.corr()\n"
     ]
    },
    {
     "data": {
      "text/html": [
       "<div>\n",
       "<style scoped>\n",
       "    .dataframe tbody tr th:only-of-type {\n",
       "        vertical-align: middle;\n",
       "    }\n",
       "\n",
       "    .dataframe tbody tr th {\n",
       "        vertical-align: top;\n",
       "    }\n",
       "\n",
       "    .dataframe thead th {\n",
       "        text-align: right;\n",
       "    }\n",
       "</style>\n",
       "<table border=\"1\" class=\"dataframe\">\n",
       "  <thead>\n",
       "    <tr style=\"text-align: right;\">\n",
       "      <th></th>\n",
       "      <th>temp</th>\n",
       "      <th>lum</th>\n",
       "      <th>rad</th>\n",
       "      <th>abs_mag</th>\n",
       "      <th>type</th>\n",
       "      <th>spec_cls_num</th>\n",
       "      <th>color_num</th>\n",
       "      <th>log_temp</th>\n",
       "      <th>log_lum</th>\n",
       "      <th>log_rad</th>\n",
       "    </tr>\n",
       "  </thead>\n",
       "  <tbody>\n",
       "    <tr>\n",
       "      <th>temp</th>\n",
       "      <td>1.000000</td>\n",
       "      <td>0.369917</td>\n",
       "      <td>-0.148475</td>\n",
       "      <td>0.281047</td>\n",
       "      <td>-0.178775</td>\n",
       "      <td>-0.753569</td>\n",
       "      <td>-0.766658</td>\n",
       "      <td>0.955880</td>\n",
       "      <td>0.372291</td>\n",
       "      <td>-0.176273</td>\n",
       "    </tr>\n",
       "    <tr>\n",
       "      <th>lum</th>\n",
       "      <td>0.369917</td>\n",
       "      <td>1.000000</td>\n",
       "      <td>0.043243</td>\n",
       "      <td>0.045595</td>\n",
       "      <td>0.020018</td>\n",
       "      <td>-0.323857</td>\n",
       "      <td>-0.324892</td>\n",
       "      <td>0.373839</td>\n",
       "      <td>0.950168</td>\n",
       "      <td>0.033203</td>\n",
       "    </tr>\n",
       "    <tr>\n",
       "      <th>rad</th>\n",
       "      <td>-0.148475</td>\n",
       "      <td>0.043243</td>\n",
       "      <td>1.000000</td>\n",
       "      <td>-0.822712</td>\n",
       "      <td>0.964742</td>\n",
       "      <td>0.428390</td>\n",
       "      <td>0.432637</td>\n",
       "      <td>-0.253997</td>\n",
       "      <td>0.029243</td>\n",
       "      <td>0.959270</td>\n",
       "    </tr>\n",
       "    <tr>\n",
       "      <th>abs_mag</th>\n",
       "      <td>0.281047</td>\n",
       "      <td>0.045595</td>\n",
       "      <td>-0.822712</td>\n",
       "      <td>1.000000</td>\n",
       "      <td>-0.833716</td>\n",
       "      <td>-0.461132</td>\n",
       "      <td>-0.474931</td>\n",
       "      <td>0.362996</td>\n",
       "      <td>0.084662</td>\n",
       "      <td>-0.809758</td>\n",
       "    </tr>\n",
       "    <tr>\n",
       "      <th>type</th>\n",
       "      <td>-0.178775</td>\n",
       "      <td>0.020018</td>\n",
       "      <td>0.964742</td>\n",
       "      <td>-0.833716</td>\n",
       "      <td>1.000000</td>\n",
       "      <td>0.449217</td>\n",
       "      <td>0.454604</td>\n",
       "      <td>-0.276067</td>\n",
       "      <td>-0.018137</td>\n",
       "      <td>0.966274</td>\n",
       "    </tr>\n",
       "    <tr>\n",
       "      <th>spec_cls_num</th>\n",
       "      <td>-0.753569</td>\n",
       "      <td>-0.323857</td>\n",
       "      <td>0.428390</td>\n",
       "      <td>-0.461132</td>\n",
       "      <td>0.449217</td>\n",
       "      <td>1.000000</td>\n",
       "      <td>0.993161</td>\n",
       "      <td>-0.896042</td>\n",
       "      <td>-0.337608</td>\n",
       "      <td>0.413271</td>\n",
       "    </tr>\n",
       "    <tr>\n",
       "      <th>color_num</th>\n",
       "      <td>-0.766658</td>\n",
       "      <td>-0.324892</td>\n",
       "      <td>0.432637</td>\n",
       "      <td>-0.474931</td>\n",
       "      <td>0.454604</td>\n",
       "      <td>0.993161</td>\n",
       "      <td>1.000000</td>\n",
       "      <td>-0.901088</td>\n",
       "      <td>-0.338735</td>\n",
       "      <td>0.422932</td>\n",
       "    </tr>\n",
       "    <tr>\n",
       "      <th>log_temp</th>\n",
       "      <td>0.955880</td>\n",
       "      <td>0.373839</td>\n",
       "      <td>-0.253997</td>\n",
       "      <td>0.362996</td>\n",
       "      <td>-0.276067</td>\n",
       "      <td>-0.896042</td>\n",
       "      <td>-0.901088</td>\n",
       "      <td>1.000000</td>\n",
       "      <td>0.381111</td>\n",
       "      <td>-0.258779</td>\n",
       "    </tr>\n",
       "    <tr>\n",
       "      <th>log_lum</th>\n",
       "      <td>0.372291</td>\n",
       "      <td>0.950168</td>\n",
       "      <td>0.029243</td>\n",
       "      <td>0.084662</td>\n",
       "      <td>-0.018137</td>\n",
       "      <td>-0.337608</td>\n",
       "      <td>-0.338735</td>\n",
       "      <td>0.381111</td>\n",
       "      <td>1.000000</td>\n",
       "      <td>0.014116</td>\n",
       "    </tr>\n",
       "    <tr>\n",
       "      <th>log_rad</th>\n",
       "      <td>-0.176273</td>\n",
       "      <td>0.033203</td>\n",
       "      <td>0.959270</td>\n",
       "      <td>-0.809758</td>\n",
       "      <td>0.966274</td>\n",
       "      <td>0.413271</td>\n",
       "      <td>0.422932</td>\n",
       "      <td>-0.258779</td>\n",
       "      <td>0.014116</td>\n",
       "      <td>1.000000</td>\n",
       "    </tr>\n",
       "  </tbody>\n",
       "</table>\n",
       "</div>"
      ],
      "text/plain": [
       "                  temp       lum       rad   abs_mag      type  spec_cls_num  \\\n",
       "temp          1.000000  0.369917 -0.148475  0.281047 -0.178775     -0.753569   \n",
       "lum           0.369917  1.000000  0.043243  0.045595  0.020018     -0.323857   \n",
       "rad          -0.148475  0.043243  1.000000 -0.822712  0.964742      0.428390   \n",
       "abs_mag       0.281047  0.045595 -0.822712  1.000000 -0.833716     -0.461132   \n",
       "type         -0.178775  0.020018  0.964742 -0.833716  1.000000      0.449217   \n",
       "spec_cls_num -0.753569 -0.323857  0.428390 -0.461132  0.449217      1.000000   \n",
       "color_num    -0.766658 -0.324892  0.432637 -0.474931  0.454604      0.993161   \n",
       "log_temp      0.955880  0.373839 -0.253997  0.362996 -0.276067     -0.896042   \n",
       "log_lum       0.372291  0.950168  0.029243  0.084662 -0.018137     -0.337608   \n",
       "log_rad      -0.176273  0.033203  0.959270 -0.809758  0.966274      0.413271   \n",
       "\n",
       "              color_num  log_temp   log_lum   log_rad  \n",
       "temp          -0.766658  0.955880  0.372291 -0.176273  \n",
       "lum           -0.324892  0.373839  0.950168  0.033203  \n",
       "rad            0.432637 -0.253997  0.029243  0.959270  \n",
       "abs_mag       -0.474931  0.362996  0.084662 -0.809758  \n",
       "type           0.454604 -0.276067 -0.018137  0.966274  \n",
       "spec_cls_num   0.993161 -0.896042 -0.337608  0.413271  \n",
       "color_num      1.000000 -0.901088 -0.338735  0.422932  \n",
       "log_temp      -0.901088  1.000000  0.381111 -0.258779  \n",
       "log_lum       -0.338735  0.381111  1.000000  0.014116  \n",
       "log_rad        0.422932 -0.258779  0.014116  1.000000  "
      ]
     },
     "execution_count": 28,
     "metadata": {},
     "output_type": "execute_result"
    }
   ],
   "source": [
    "giants_df.corr()"
   ]
  },
  {
   "cell_type": "markdown",
   "metadata": {},
   "source": [
    "It appears that type of giants can be determined easily by radius and this holds true visually\n",
    "Absolute magnitude appears to be an okay measure as well."
   ]
  },
  {
   "cell_type": "code",
   "execution_count": 21,
   "metadata": {
    "execution": {
     "iopub.execute_input": "2023-01-23T18:44:30.384787Z",
     "iopub.status.busy": "2023-01-23T18:44:30.384411Z",
     "iopub.status.idle": "2023-01-23T18:44:30.849481Z",
     "shell.execute_reply": "2023-01-23T18:44:30.848206Z",
     "shell.execute_reply.started": "2023-01-23T18:44:30.384750Z"
    }
   },
   "outputs": [
    {
     "data": {
      "image/png": "[encoded data removed]",
      "text/plain": [
       "<Figure size 640x480 with 1 Axes>"
      ]
     },
     "metadata": {},
     "output_type": "display_data"
    }
   ],
   "source": [
    "plot_stars(giants_df, size=5.0, x='rad', y='abs_mag', logx=True)"
   ]
  },
  {
   "cell_type": "markdown",
   "metadata": {},
   "source": [
    "What about dwarves? Absolute Magnitude and radius look useful yet again.\n",
    "Absolute magnitude provides the best indicator for dwarves."
   ]
  },
  {
   "cell_type": "code",
   "execution_count": 29,
   "metadata": {
    "execution": {
     "iopub.execute_input": "2023-01-23T18:44:30.852362Z",
     "iopub.status.busy": "2023-01-23T18:44:30.851531Z",
     "iopub.status.idle": "2023-01-23T18:44:30.876161Z",
     "shell.execute_reply": "2023-01-23T18:44:30.874963Z",
     "shell.execute_reply.started": "2023-01-23T18:44:30.852313Z"
    }
   },
   "outputs": [
    {
     "name": "stderr",
     "output_type": "stream",
     "text": [
      "/tmp/ipykernel_6765/13972208.py:2: FutureWarning: The default value of numeric_only in DataFrame.corr is deprecated. In a future version, it will default to False. Select only valid columns or specify the value of numeric_only to silence this warning.\n",
      "  dwarfs_df.corr()\n"
     ]
    },
    {
     "data": {
      "text/html": [
       "<div>\n",
       "<style scoped>\n",
       "    .dataframe tbody tr th:only-of-type {\n",
       "        vertical-align: middle;\n",
       "    }\n",
       "\n",
       "    .dataframe tbody tr th {\n",
       "        vertical-align: top;\n",
       "    }\n",
       "\n",
       "    .dataframe thead th {\n",
       "        text-align: right;\n",
       "    }\n",
       "</style>\n",
       "<table border=\"1\" class=\"dataframe\">\n",
       "  <thead>\n",
       "    <tr style=\"text-align: right;\">\n",
       "      <th></th>\n",
       "      <th>temp</th>\n",
       "      <th>lum</th>\n",
       "      <th>rad</th>\n",
       "      <th>abs_mag</th>\n",
       "      <th>type</th>\n",
       "      <th>spec_cls_num</th>\n",
       "      <th>color_num</th>\n",
       "      <th>log_temp</th>\n",
       "      <th>log_lum</th>\n",
       "      <th>log_rad</th>\n",
       "    </tr>\n",
       "  </thead>\n",
       "  <tbody>\n",
       "    <tr>\n",
       "      <th>temp</th>\n",
       "      <td>1.000000</td>\n",
       "      <td>0.270587</td>\n",
       "      <td>0.520189</td>\n",
       "      <td>-0.462690</td>\n",
       "      <td>0.431565</td>\n",
       "      <td>NaN</td>\n",
       "      <td>NaN</td>\n",
       "      <td>0.995619</td>\n",
       "      <td>0.454965</td>\n",
       "      <td>0.531883</td>\n",
       "    </tr>\n",
       "    <tr>\n",
       "      <th>lum</th>\n",
       "      <td>0.270587</td>\n",
       "      <td>1.000000</td>\n",
       "      <td>0.274193</td>\n",
       "      <td>-0.476442</td>\n",
       "      <td>0.415680</td>\n",
       "      <td>NaN</td>\n",
       "      <td>NaN</td>\n",
       "      <td>0.266920</td>\n",
       "      <td>0.756832</td>\n",
       "      <td>0.354227</td>\n",
       "    </tr>\n",
       "    <tr>\n",
       "      <th>rad</th>\n",
       "      <td>0.520189</td>\n",
       "      <td>0.274193</td>\n",
       "      <td>1.000000</td>\n",
       "      <td>-0.641575</td>\n",
       "      <td>0.736568</td>\n",
       "      <td>NaN</td>\n",
       "      <td>NaN</td>\n",
       "      <td>0.503974</td>\n",
       "      <td>0.474661</td>\n",
       "      <td>0.959532</td>\n",
       "    </tr>\n",
       "    <tr>\n",
       "      <th>abs_mag</th>\n",
       "      <td>-0.462690</td>\n",
       "      <td>-0.476442</td>\n",
       "      <td>-0.641575</td>\n",
       "      <td>1.000000</td>\n",
       "      <td>-0.887306</td>\n",
       "      <td>NaN</td>\n",
       "      <td>NaN</td>\n",
       "      <td>-0.460072</td>\n",
       "      <td>-0.642475</td>\n",
       "      <td>-0.750043</td>\n",
       "    </tr>\n",
       "    <tr>\n",
       "      <th>type</th>\n",
       "      <td>0.431565</td>\n",
       "      <td>0.415680</td>\n",
       "      <td>0.736568</td>\n",
       "      <td>-0.887306</td>\n",
       "      <td>1.000000</td>\n",
       "      <td>NaN</td>\n",
       "      <td>NaN</td>\n",
       "      <td>0.424134</td>\n",
       "      <td>0.664753</td>\n",
       "      <td>0.831610</td>\n",
       "    </tr>\n",
       "    <tr>\n",
       "      <th>spec_cls_num</th>\n",
       "      <td>NaN</td>\n",
       "      <td>NaN</td>\n",
       "      <td>NaN</td>\n",
       "      <td>NaN</td>\n",
       "      <td>NaN</td>\n",
       "      <td>NaN</td>\n",
       "      <td>NaN</td>\n",
       "      <td>NaN</td>\n",
       "      <td>NaN</td>\n",
       "      <td>NaN</td>\n",
       "    </tr>\n",
       "    <tr>\n",
       "      <th>color_num</th>\n",
       "      <td>NaN</td>\n",
       "      <td>NaN</td>\n",
       "      <td>NaN</td>\n",
       "      <td>NaN</td>\n",
       "      <td>NaN</td>\n",
       "      <td>NaN</td>\n",
       "      <td>NaN</td>\n",
       "      <td>NaN</td>\n",
       "      <td>NaN</td>\n",
       "      <td>NaN</td>\n",
       "    </tr>\n",
       "    <tr>\n",
       "      <th>log_temp</th>\n",
       "      <td>0.995619</td>\n",
       "      <td>0.266920</td>\n",
       "      <td>0.503974</td>\n",
       "      <td>-0.460072</td>\n",
       "      <td>0.424134</td>\n",
       "      <td>NaN</td>\n",
       "      <td>NaN</td>\n",
       "      <td>1.000000</td>\n",
       "      <td>0.456838</td>\n",
       "      <td>0.518362</td>\n",
       "    </tr>\n",
       "    <tr>\n",
       "      <th>log_lum</th>\n",
       "      <td>0.454965</td>\n",
       "      <td>0.756832</td>\n",
       "      <td>0.474661</td>\n",
       "      <td>-0.642475</td>\n",
       "      <td>0.664753</td>\n",
       "      <td>NaN</td>\n",
       "      <td>NaN</td>\n",
       "      <td>0.456838</td>\n",
       "      <td>1.000000</td>\n",
       "      <td>0.562315</td>\n",
       "    </tr>\n",
       "    <tr>\n",
       "      <th>log_rad</th>\n",
       "      <td>0.531883</td>\n",
       "      <td>0.354227</td>\n",
       "      <td>0.959532</td>\n",
       "      <td>-0.750043</td>\n",
       "      <td>0.831610</td>\n",
       "      <td>NaN</td>\n",
       "      <td>NaN</td>\n",
       "      <td>0.518362</td>\n",
       "      <td>0.562315</td>\n",
       "      <td>1.000000</td>\n",
       "    </tr>\n",
       "  </tbody>\n",
       "</table>\n",
       "</div>"
      ],
      "text/plain": [
       "                  temp       lum       rad   abs_mag      type  spec_cls_num  \\\n",
       "temp          1.000000  0.270587  0.520189 -0.462690  0.431565           NaN   \n",
       "lum           0.270587  1.000000  0.274193 -0.476442  0.415680           NaN   \n",
       "rad           0.520189  0.274193  1.000000 -0.641575  0.736568           NaN   \n",
       "abs_mag      -0.462690 -0.476442 -0.641575  1.000000 -0.887306           NaN   \n",
       "type          0.431565  0.415680  0.736568 -0.887306  1.000000           NaN   \n",
       "spec_cls_num       NaN       NaN       NaN       NaN       NaN           NaN   \n",
       "color_num          NaN       NaN       NaN       NaN       NaN           NaN   \n",
       "log_temp      0.995619  0.266920  0.503974 -0.460072  0.424134           NaN   \n",
       "log_lum       0.454965  0.756832  0.474661 -0.642475  0.664753           NaN   \n",
       "log_rad       0.531883  0.354227  0.959532 -0.750043  0.831610           NaN   \n",
       "\n",
       "              color_num  log_temp   log_lum   log_rad  \n",
       "temp                NaN  0.995619  0.454965  0.531883  \n",
       "lum                 NaN  0.266920  0.756832  0.354227  \n",
       "rad                 NaN  0.503974  0.474661  0.959532  \n",
       "abs_mag             NaN -0.460072 -0.642475 -0.750043  \n",
       "type                NaN  0.424134  0.664753  0.831610  \n",
       "spec_cls_num        NaN       NaN       NaN       NaN  \n",
       "color_num           NaN       NaN       NaN       NaN  \n",
       "log_temp            NaN  1.000000  0.456838  0.518362  \n",
       "log_lum             NaN  0.456838  1.000000  0.562315  \n",
       "log_rad             NaN  0.518362  0.562315  1.000000  "
      ]
     },
     "execution_count": 29,
     "metadata": {},
     "output_type": "execute_result"
    }
   ],
   "source": [
    "dwarfs_df = df[(df.type == 0) | (df.type == 1)]\n",
    "dwarfs_df.corr()"
   ]
  },
  {
   "cell_type": "code",
   "execution_count": 23,
   "metadata": {
    "execution": {
     "iopub.execute_input": "2023-01-23T18:44:30.878279Z",
     "iopub.status.busy": "2023-01-23T18:44:30.877767Z",
     "iopub.status.idle": "2023-01-23T18:44:31.249226Z",
     "shell.execute_reply": "2023-01-23T18:44:31.248030Z",
     "shell.execute_reply.started": "2023-01-23T18:44:30.878244Z"
    }
   },
   "outputs": [
    {
     "data": {
      "image/png": "[encoded data removed]",
      "text/plain": [
       "<Figure size 640x480 with 1 Axes>"
      ]
     },
     "metadata": {},
     "output_type": "display_data"
    }
   ],
   "source": [
    "plot_stars(dwarfs_df, x='rad', y='abs_mag', logx=True)"
   ]
  },
  {
   "cell_type": "code",
   "execution_count": 24,
   "metadata": {
    "execution": {
     "iopub.execute_input": "2023-01-23T18:44:31.251632Z",
     "iopub.status.busy": "2023-01-23T18:44:31.250815Z",
     "iopub.status.idle": "2023-01-23T18:44:32.253031Z",
     "shell.execute_reply": "2023-01-23T18:44:32.251957Z",
     "shell.execute_reply.started": "2023-01-23T18:44:31.251597Z"
    }
   },
   "outputs": [
    {
     "data": {
      "image/png": "[encoded data removed]",
      "text/plain": [
       "<Figure size 640x480 with 1 Axes>"
      ]
     },
     "metadata": {},
     "output_type": "display_data"
    }
   ],
   "source": [
    "plot_stars(df, x='abs_mag', y='rad', logy=True)"
   ]
  },
  {
   "cell_type": "markdown",
   "metadata": {},
   "source": [
    "Overall, Absolute Magnitude and Radius combined can differentiate all groups of stars."
   ]
  }
 ],
 "metadata": {
  "kernelspec": {
   "display_name": "Python 3 (ipykernel)",
   "language": "python",
   "name": "python3"
  },
  "language_info": {
   "codemirror_mode": {
    "name": "ipython",
    "version": 3
   },
   "file_extension": ".py",
   "mimetype": "text/x-python",
   "name": "python",
   "nbconvert_exporter": "python",
   "pygments_lexer": "ipython3",
   "version": "3.10.6"
  },
  "toc": {
   "base_numbering": 1,
   "nav_menu": {},
   "number_sections": true,
   "sideBar": true,
   "skip_h1_title": false,
   "title_cell": "Table of Contents",
   "title_sidebar": "Contents",
   "toc_cell": false,
   "toc_position": {},
   "toc_section_display": true,
   "toc_window_display": false
  }
 },
 "nbformat": 4,
 "nbformat_minor": 4
}
